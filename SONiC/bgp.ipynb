{
 "cells": [
  {
   "cell_type": "code",
   "execution_count": null,
   "metadata": {},
   "outputs": [],
   "source": [
    "import networkx as nx\n",
    "import ipaddress\n",
    "\n",
    "from string import Template\n",
    "\n",
    "import yaml"
   ]
  },
  {
   "cell_type": "code",
   "execution_count": null,
   "metadata": {},
   "outputs": [],
   "source": [
    "class dotdict(dict):\n",
    "    \"\"\"\n",
    "    Access dictionary member with the dot operator\n",
    "    \n",
    "    dot.notation access to dictionary attributes\n",
    "    from https://stackoverflow.com/a/23689767\n",
    "    \"\"\"\n",
    "    __getattr__ = dict.get\n",
    "    __setattr__ = dict.__setitem__\n",
    "    __delattr__ = dict.__delitem__"
   ]
  },
  {
   "cell_type": "code",
   "execution_count": null,
   "metadata": {},
   "outputs": [],
   "source": [
    "def min_max_range(_range):\n",
    "    \"\"\"\n",
    "    Return the minimum and maximum value of a range\n",
    "    \"\"\"\n",
    "    return tuple(map(int, _range.split('-')))"
   ]
  },
  {
   "cell_type": "code",
   "execution_count": null,
   "metadata": {},
   "outputs": [],
   "source": [
    "class Topo:\n",
    "    def __init__(self):\n",
    "        self.reset()\n",
    "\n",
    "    def reset(self):\n",
    "        with open('template.yaml') as file:\n",
    "            self.template = dotdict(yaml.load(file, Loader=yaml.FullLoader))\n",
    "        self.G = nx.MultiGraph()\n",
    "        \n",
    "        self.counters = dotdict({'spines': 0, 'leafs': 0})\n",
    "\n",
    "    def addSpine(self):\n",
    "        next_spine = self.counters.spines + 1\n",
    "        asn = self.template['spine']['ASN']\n",
    "        name = Template(self.template['spine']['name']).substitute(id=next_spine)\n",
    "        router_id = str(ipaddress.ip_network(self.template['spine']['router-id'])[next_spine])\n",
    "\n",
    "        params = {'type': 'spine', 'name': name, 'ASN': asn, 'router-id': router_id}\n",
    "\n",
    "        self.G.add_node(name, **params)\n",
    "\n",
    "        self.counters.spines =  self.counters.spines + 1\n",
    "\n",
    "        return (name, params)\n",
    "\n",
    "    def _rack_asn(self, rack):\n",
    "        (a,b) = min_max_range(self.template['rack']['ASN'])\n",
    "        base_asn = a + rack\n",
    "        if base_asn > b:\n",
    "            raise Exception('You exceeded the maximum possible number of racks (max is: {})'.format(b-a+1))\n",
    "        return base_asn\n",
    "\n",
    "    def addLeaf(self, rack):\n",
    "        next_leaf = self.counters.leafs + 1\n",
    "        asn = self._rack_asn(rack)\n",
    "        name = Template(self.template['leaf']['name']).substitute(id=next_leaf)\n",
    "        router_id = str(ipaddress.ip_network(self.template['leaf']['router-id'])[next_leaf])\n",
    "\n",
    "        params = {'type': 'leaf', 'name': name, 'ASN': asn, 'router-id': router_id}\n",
    "\n",
    "        self.G.add_node(name, **params)\n",
    "        self.counters.leafs =  self.counters.leafs + 1\n",
    "\n",
    "        return (name, params)\n",
    "\n",
    "    def getLeafs(self):\n",
    "        return self.getNodesByType('leaf')\n",
    "    def getSpines(self):\n",
    "        return self.getNodesByType('spine')\n",
    "\n",
    "    def getNodesByType(self, _type):\n",
    "        return filter (lambda node:  node[1]['type']  == _type, self.G.nodes(data=True))\n",
    "\n",
    "    def connect(self, a, aport, b, bport, attr={}):\n",
    "        interfaces = {'ports': {a: aport, b: bport}}\n",
    "        self.G.add_edge(a, b, **{**interfaces, **attr})\n"
   ]
  },
  {
   "cell_type": "code",
   "execution_count": null,
   "metadata": {},
   "outputs": [],
   "source": [
    "def _cmd(command, attr):\n",
    "    return Template(command).substitute(**attr)\n",
    "\n",
    "def execute_block(block, attributes, indent=0, no_exit=False):\n",
    "    if type(block) == dict:\n",
    "        for k, v in block.items():\n",
    "            execute_block(k, attributes=attributes, indent=indent)\n",
    "            for b in block[k]: \n",
    "                execute_block(b, attributes=attributes, indent=indent+1)\n",
    "            if not no_exit:\n",
    "                print ('{}exit'.format(' '*indent*3))\n",
    "    else:\n",
    "        print ('{}{}'.format(' '*indent*2, _cmd(block, attributes)))\n",
    "\n",
    "def commands(template_file, section, attr=None, no_exit=False):\n",
    "    with open(template_file) as file:\n",
    "        template = dotdict(yaml.load(file, Loader=yaml.FullLoader))\n",
    "        base = template[section]\n",
    "        for cmd in base:\n",
    "            execute_block(cmd, attributes=attr, no_exit=no_exit)"
   ]
  },
  {
   "cell_type": "code",
   "execution_count": null,
   "metadata": {},
   "outputs": [],
   "source": [
    "topo = Topo()\n",
    "spine1, _ = topo.addSpine()\n",
    "spine2, _ = topo.addSpine()\n",
    "leaf1, _ = topo.addLeaf(0)\n",
    "leaf2, _ = topo.addLeaf(0)\n",
    "leaf3, _ = topo.addLeaf(1)\n",
    "\n",
    "topo.connect(spine1, 'Eth1/1', leaf1, 'Eth1/1')\n",
    "topo.connect(spine1, 'Eth1/2', leaf2, 'Eth1/1')"
   ]
  },
  {
   "cell_type": "code",
   "execution_count": null,
   "metadata": {},
   "outputs": [],
   "source": [
    "print ('base commands to run:')\n",
    "print ('=====================')\n",
    "for name, attr in topo.getLeafs():\n",
    "    print ('{}:'.format(name))\n",
    "    print ('-'*(len(name)+1))\n",
    "    commands('base_config.yaml', 'init', attr)\n",
    "\n",
    "    print ('')\n"
   ]
  },
  {
   "cell_type": "code",
   "execution_count": null,
   "metadata": {},
   "outputs": [],
   "source": [
    "print ('Interface commands to run:')\n",
    "print ('==========================')\n",
    "for name, _ in topo.getSpines():\n",
    "    print ('{}:'.format(name))\n",
    "    print ('-'*(len(name)+1))\n",
    "\n",
    "    for _, adj, attr in topo.G.edges(name, data=True):\n",
    "        options = {\n",
    "            'port': attr['ports'][name],\n",
    "            'description': adj\n",
    "        }\n",
    "        commands('base_config.yaml', 'interface', options)"
   ]
  },
  {
   "cell_type": "code",
   "execution_count": null,
   "metadata": {},
   "outputs": [],
   "source": [
    "print ('BGP commands to run:')\n",
    "print ('====================')\n",
    "for name, attr in topo.getSpines():\n",
    "    print ('{}:'.format(name))\n",
    "    print ('-'*(len(name)+1))\n",
    "    _type = topo.G.nodes[name]['type']\n",
    "    peer_group = {'spine': 'LEAF', 'leaf': 'SPINE'}\n",
    "    option = { **{\n",
    "                    'ip': '{}/32'.format(attr['router-id']),\n",
    "                    'router_id': attr['router-id'],\n",
    "                    'peer_group': peer_group[_type]},\n",
    "                **attr }\n",
    "    commands('bgp_config.yaml', 'generic', attr=option, no_exit=True)\n",
    "    commands('bgp_config.yaml', 'additionnal_{}'.format(_type), attr=option)\n",
    "\n",
    "    # get all neighbors\n",
    "    for _, adj, attr in topo.G.edges(name, data=True):\n",
    "        options = {\n",
    "            'port': attr['ports'][name],\n",
    "            'description': adj,\n",
    "            'peer_group': topo.G.nodes[adj]['type'].upper()\n",
    "        }\n",
    "        commands('bgp_config.yaml', 'neighbor_unnumbered', attr=options)"
   ]
  }
 ],
 "metadata": {
  "interpreter": {
   "hash": "916dbcbb3f70747c44a77c7bcd40155683ae19c65e1c03b4aa3499c5328201f1"
  },
  "kernelspec": {
   "display_name": "Python 3.8.10 64-bit",
   "name": "python3"
  },
  "language_info": {
   "codemirror_mode": {
    "name": "ipython",
    "version": 3
   },
   "file_extension": ".py",
   "mimetype": "text/x-python",
   "name": "python",
   "nbconvert_exporter": "python",
   "pygments_lexer": "ipython3",
   "version": "3.8.10"
  },
  "orig_nbformat": 4
 },
 "nbformat": 4,
 "nbformat_minor": 2
}
